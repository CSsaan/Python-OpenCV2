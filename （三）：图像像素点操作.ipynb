{
 "cells": [
  {
   "cell_type": "markdown",
   "metadata": {},
   "source": [
    "# （三）：图像像素点操作"
   ]
  },
  {
   "cell_type": "markdown",
   "metadata": {},
   "source": [
    "### 01. 像素\n",
    "有两种直接操作图片像素点的方法：\n",
    "\n",
    "第一种办法就是将一张图片看成一个多维的list，例如对于一张图片im，想要操作第四行第四列的像素点就直接 im[3,3] 就可以获取到这个点的RGB值。\n",
    "\n",
    "第二种就是使用 OpenCV 提供的 Get1D、 Get2D 等函数。\n",
    "\n",
    "推荐使用第一种办法吧，毕竟简单。"
   ]
  },
  {
   "cell_type": "markdown",
   "metadata": {},
   "source": [
    "### 02. 获取行和列像素\n",
    "有一下四个函数：\n",
    "\n",
    "#### cv.GetCol(im, 0): 返回第一列的像素\n",
    "\n",
    "#### cv GetCols(im, 0, 10): 返回前 10 列\n",
    "\n",
    "#### cv.GetRow(im, 0): 返回第一行\n",
    "\n",
    "#### cv.GetRows(im, 0, 10): 返回前 10 行"
   ]
  },
  {
   "cell_type": "markdown",
   "metadata": {},
   "source": [
    "### 03. 批量处理\n",
    "需要批量处理所有的像素点的时候，只需要使用for循环迭代处理就可以了："
   ]
  },
  {
   "cell_type": "code",
   "execution_count": null,
   "metadata": {},
   "outputs": [],
   "source": [
    "import cv2.cv as cv\n",
    "\n",
    "im = cv.LoadImage(\"img/lena.jpg\")\n",
    "\n",
    "for i in range(im.height):\n",
    "    for j in range(im.width):\n",
    "        im[i,j] # 这里可以处理每个像素点"
   ]
  },
  {
   "cell_type": "markdown",
   "metadata": {},
   "source": [
    "还有一种迭代处理的方式是使用 LineIterator，不过在声明 LineIterator 的时候需要制定处理像素点的开始点和结束点。"
   ]
  },
  {
   "cell_type": "code",
   "execution_count": null,
   "metadata": {},
   "outputs": [],
   "source": [
    "import cv2.cv as cv\n",
    "\n",
    "im = cv.LoadImage(\"img/lena.jpg\")\n",
    "\n",
    "li = cv.InitLineIterator(im, (0, 0), (im.rows, im.cols)) #So loop the entire matrix\n",
    "\n",
    "for (r, g, b) in li:\n",
    "    # 这里可以对每个像素点的 r g b 进行处理"
   ]
  },
  {
   "cell_type": "markdown",
   "metadata": {},
   "source": [
    "娱乐一下， 随机获取 5000 个像素点，然后把颜色换成一个随机的值(salt)："
   ]
  },
  {
   "cell_type": "code",
   "execution_count": null,
   "metadata": {},
   "outputs": [],
   "source": [
    "import cv2.cv as cv\n",
    "\n",
    "import random\n",
    "\n",
    "# 这里也可以使用 Get2D/Set2D 来加载图片\n",
    "im = cv.LoadImage(\"img/lena.jpg\") \n",
    "\n",
    "for k in range(5000): #Create 5000 noisy pixels\n",
    "    i = random.randint(0,im.height-1)\n",
    "    j = random.randint(0,im.width-1)\n",
    "    color = (random.randrange(256),random.randrange(256),random.randrange(256))\n",
    "    im[i,j] = color\n",
    "\n",
    "cv.ShowImage(\"Noize\", im)\n",
    "cv.WaitKey(0)"
   ]
  }
 ],
 "metadata": {
  "kernelspec": {
   "display_name": "Python 3",
   "language": "python",
   "name": "python3"
  },
  "language_info": {
   "codemirror_mode": {
    "name": "ipython",
    "version": 3
   },
   "file_extension": ".py",
   "mimetype": "text/x-python",
   "name": "python",
   "nbconvert_exporter": "python",
   "pygments_lexer": "ipython3",
   "version": "3.7.6"
  }
 },
 "nbformat": 4,
 "nbformat_minor": 4
}

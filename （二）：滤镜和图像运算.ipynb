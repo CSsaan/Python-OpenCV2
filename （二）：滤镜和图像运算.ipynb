{
 "cells": [
  {
   "cell_type": "markdown",
   "metadata": {},
   "source": [
    "# （二）：滤镜和图像运算"
   ]
  },
  {
   "cell_type": "markdown",
   "metadata": {},
   "source": [
    "### 01. 滤镜\n",
    "喜欢自拍的人肯定都知道滤镜了，下面代码尝试使用一些简单的滤镜，包括图片的平滑处理、灰度化、二值化等："
   ]
  },
  {
   "cell_type": "code",
   "execution_count": null,
   "metadata": {},
   "outputs": [],
   "source": [
    "import cv2.cv as cv\n",
    "\n",
    "image=cv.LoadImage('img/lena.jpg', cv.CV_LOAD_IMAGE_COLOR) #Load the image\n",
    "cv.ShowImage(\"Original\", image)\n",
    "\n",
    "grey = cv.CreateImage((image.width ,image.height),8,1) #8depth, 1 channel so grayscale\n",
    "cv.CvtColor(image, grey, cv.CV_RGBA2GRAY) #Convert to gray so act as a filter\n",
    "cv.ShowImage('Greyed', grey)\n",
    "\n",
    "# 平滑变换\n",
    "smoothed = cv.CloneImage(image)\n",
    "cv.Smooth(image,smoothed,cv.CV_MEDIAN) #Apply a smooth alogrithm with the specified algorithm cv.MEDIAN\n",
    "cv.ShowImage(\"Smoothed\", smoothed)\n",
    "\n",
    "# 均衡处理\n",
    "cv.EqualizeHist(grey, grey) #Work only on grayscaled pictures\n",
    "cv.ShowImage('Equalized', grey)\n",
    "\n",
    "# 二值化处理\n",
    "threshold1 = cv.CloneImage(grey)\n",
    "cv.Threshold(threshold1,threshold1, 100, 255, cv.CV_THRESH_BINARY)\n",
    "cv.ShowImage(\"Threshold\", threshold1)\n",
    "\n",
    "threshold2 = cv.CloneImage(grey)\n",
    "cv.Threshold(threshold2,threshold2, 100, 255, cv.CV_THRESH_OTSU)\n",
    "cv.ShowImage(\"Threshold 2\", threshold2)\n",
    "\n",
    "element_shape = cv.CV_SHAPE_RECT\n",
    "pos=3\n",
    "element = cv.CreateStructuringElementEx(pos*2+1, pos*2+1, pos, pos, element_shape)\n",
    "cv.Dilate(grey,grey,element,2) #Replace a pixel value with the maximum value of neighboors\n",
    "#There is others like Erode which replace take the lowest value of the neighborhood\n",
    "#Note: The Structuring element is optionnal\n",
    "cv.ShowImage(\"Dilated\", grey)\n",
    "\n",
    "cv.WaitKey(0)"
   ]
  },
  {
   "cell_type": "markdown",
   "metadata": {},
   "source": [
    "### 02. HighGUI\n",
    "OpenCV 内建了一套简单的 GUI 工具，方便我们在处理界面上编写一些控件，动态的改变输出："
   ]
  },
  {
   "cell_type": "markdown",
   "metadata": {},
   "source": [
    "### 03. 选区操作\n",
    "有事希望对图像中某一块区域进行变换等操作，就可以使用如下方式："
   ]
  },
  {
   "cell_type": "code",
   "execution_count": null,
   "metadata": {},
   "outputs": [],
   "source": [
    "import cv2.cv as cv\n",
    "\n",
    "im = cv.LoadImage(\"img/lena.jpg\",3)\n",
    "\n",
    "# 选择一块区域\n",
    "cv.SetImageROI(im, (50,50,150,150)) #Give the rectangle coordinate of the selected area\n",
    "\n",
    "# 变换操作\n",
    "cv.Zero(im)\n",
    "#cv.Set(im, cv.RGB(100, 100, 100)) put the image to a given value\n",
    "\n",
    "# 解除选区\n",
    "cv.ResetImageROI(im) # Reset the ROI\n",
    "\n",
    "cv.ShowImage(\"Image\",im)\n",
    "\n",
    "cv.WaitKey(0)"
   ]
  },
  {
   "cell_type": "markdown",
   "metadata": {},
   "source": [
    "### 04. 运算\n",
    "对于多张图片，我们可以进行一些运算操作(包括算数运算和逻辑运算)，下面的代码将演示一些基本的运算操作："
   ]
  },
  {
   "cell_type": "code",
   "execution_count": null,
   "metadata": {},
   "outputs": [],
   "source": [
    "import cv2.cv as cv#or simply import cv\n",
    "\n",
    "im = cv.LoadImage(\"img/lena.jpg\")\n",
    "im2 = cv.LoadImage(\"img/fruits-larger.jpg\")\n",
    "cv.ShowImage(\"Image1\", im)\n",
    "cv.ShowImage(\"Image2\", im2)\n",
    "\n",
    "res = cv.CreateImage(cv.GetSize(im2), 8, 3)\n",
    "\n",
    "# 加\n",
    "cv.Add(im, im2, res) #Add every pixels together (black is 0 so low change and white overload anyway)\n",
    "cv.ShowImage(\"Add\", res)\n",
    "\n",
    "# 减\n",
    "cv.AbsDiff(im, im2, res) # Like minus for each pixel im(i) - im2(i)\n",
    "cv.ShowImage(\"AbsDiff\", res)\n",
    "\n",
    "# 乘\n",
    "cv.Mul(im, im2, res) #Multiplie each pixels (almost white)\n",
    "cv.ShowImage(\"Mult\", res)\n",
    "\n",
    "# 除\n",
    "cv.Div(im, im2, res) #Values will be low so the image will likely to be almost black\n",
    "cv.ShowImage(\"Div\", res)\n",
    "\n",
    "# 与\n",
    "cv.And(im, im2, res) #Bit and for every pixels\n",
    "cv.ShowImage(\"And\", res)\n",
    "\n",
    "# 或\n",
    "cv.Or(im, im2, res) # Bit or for every pixels\n",
    "cv.ShowImage(\"Or\", res)\n",
    "\n",
    "# 非\n",
    "cv.Not(im, res) # Bit not of an image\n",
    "cv.ShowImage(\"Not\", res)\n",
    "\n",
    "# 异或\n",
    "cv.Xor(im, im2, res) #Bit Xor\n",
    "cv.ShowImage(\"Xor\", res)\n",
    "\n",
    "# 乘方\n",
    "cv.Pow(im, res, 2) #Pow the each pixel with the given value\n",
    "cv.ShowImage(\"Pow\", res)\n",
    "\n",
    "# 最大值\n",
    "cv.Max(im, im2, res) #Maximum between two pixels\n",
    "#Same form Min MinS\n",
    "cv.ShowImage(\"Max\",res)\n",
    "\n",
    "cv.WaitKey(0)"
   ]
  },
  {
   "cell_type": "code",
   "execution_count": null,
   "metadata": {},
   "outputs": [],
   "source": []
  }
 ],
 "metadata": {
  "kernelspec": {
   "display_name": "Python 3",
   "language": "python",
   "name": "python3"
  },
  "language_info": {
   "codemirror_mode": {
    "name": "ipython",
    "version": 3
   },
   "file_extension": ".py",
   "mimetype": "text/x-python",
   "name": "python",
   "nbconvert_exporter": "python",
   "pygments_lexer": "ipython3",
   "version": "3.7.6"
  }
 },
 "nbformat": 4,
 "nbformat_minor": 4
}
